{
 "cells": [
  {
   "cell_type": "markdown",
   "metadata": {},
   "source": [
    "# Demo for the mrdna-editor\n",
    "*Written by Joakim Bohlin, Department of Pysics, University of Oxford*"
   ]
  },
  {
   "cell_type": "markdown",
   "metadata": {},
   "source": [
    "This is a demo of an interactive editor for the mrdna package. Make sure to first follow the mrdna tutorial found here:  \n",
    "https://gitlab.engr.illinois.edu/tbgl/tutorials/multi-resolution-dna-nanotechnology\n",
    "\n",
    "To get started, simply import the `Editor` class from `mrdnaEditor.py`:"
   ]
  },
  {
   "cell_type": "code",
   "execution_count": 1,
   "metadata": {},
   "outputs": [
    {
     "name": "stderr",
     "output_type": "stream",
     "text": [
      "/home/johansson/miniconda3/lib/python3.6/site-packages/scipy/signal/_arraytools.py:45: FutureWarning: Using a non-tuple sequence for multidimensional indexing is deprecated; use `arr[tuple(seq)]` instead of `arr[seq]`. In the future this will be interpreted as an array index, `arr[np.array(seq)]`, which will result either in an error or a different result.\n",
      "  b = a[a_slice]\n"
     ]
    }
   ],
   "source": [
    "from mrdnaEditor import Editor"
   ]
  },
  {
   "cell_type": "markdown",
   "metadata": {},
   "source": [
    "## Load a caDNAno design"
   ]
  },
  {
   "cell_type": "markdown",
   "metadata": {},
   "source": [
    "![simple.json cadnano](simple.png)"
   ]
  },
  {
   "cell_type": "markdown",
   "metadata": {},
   "source": [
    "Create an editor instance and call its `loadCadnano()` method, using the path to the JSON file:"
   ]
  },
  {
   "cell_type": "code",
   "execution_count": 2,
   "metadata": {},
   "outputs": [
    {
     "name": "stdout",
     "output_type": "stream",
     "text": [
      "Found cadnano version 2 file\n"
     ]
    }
   ],
   "source": [
    "mrEdit = Editor()\n",
    "mrEdit.loadCadnano('simple.json')"
   ]
  },
  {
   "cell_type": "markdown",
   "metadata": {},
   "source": [
    "The underlying mrdna model is accessible through `mrEdit.model`:"
   ]
  },
  {
   "cell_type": "code",
   "execution_count": 3,
   "metadata": {},
   "outputs": [
    {
     "data": {
      "text/plain": [
       "<mrdna.readers.cadnano_segments.cadnano_part at 0x7f6cab1a9f60>"
      ]
     },
     "execution_count": 3,
     "metadata": {},
     "output_type": "execute_result"
    }
   ],
   "source": [
    "mrEdit.model"
   ]
  },
  {
   "cell_type": "markdown",
   "metadata": {},
   "source": [
    "## View the structure"
   ]
  },
  {
   "cell_type": "markdown",
   "metadata": {},
   "source": [
    "Call `getView()` to visualise the structure:"
   ]
  },
  {
   "cell_type": "code",
   "execution_count": 4,
   "metadata": {},
   "outputs": [
    {
     "data": {
      "application/vnd.jupyter.widget-view+json": {
       "model_id": "ddb1338623c84cce83ee92d19b87e4e9",
       "version_major": 2,
       "version_minor": 0
      },
      "text/plain": [
       "VBox(children=(HTML(value='Select beads by double-clicking'), Renderer(camera=PerspectiveCamera(aspect=1.5, po…"
      ]
     },
     "metadata": {},
     "output_type": "display_data"
    }
   ],
   "source": [
    "mrEdit.getView()"
   ]
  },
  {
   "cell_type": "markdown",
   "metadata": {},
   "source": [
    "If you want to, you can set a different amount of base pairs / nucleotides per bead:"
   ]
  },
  {
   "cell_type": "code",
   "execution_count": 6,
   "metadata": {},
   "outputs": [],
   "source": [
    "mrEdit.regenerateBeads(\n",
    "    max_basepairs_per_bead=6,\n",
    "    max_nucleotides_per_bead=6,\n",
    "    local_twist=False,\n",
    "    escapable_twist=False)"
   ]
  },
  {
   "cell_type": "markdown",
   "metadata": {},
   "source": [
    "## Select beads"
   ]
  },
  {
   "cell_type": "markdown",
   "metadata": {},
   "source": [
    "Select one or more beads by double-clicking them in the view. You can also increase or decrease your selection using the provided buttons. Access the list of selected beads by calling `mrEdit.selected`. This is a list of bead meshes, but each have a reference to the corresponding bead in the mrdna model."
   ]
  },
  {
   "cell_type": "code",
   "execution_count": 7,
   "metadata": {
    "scrolled": true
   },
   "outputs": [
    {
     "data": {
      "text/plain": [
       "[<SegmentParticle DNA on <DoubleStrandedSegment'> 0-0[42]>[0.57]>,\n",
       " <SegmentParticle DNA on <DoubleStrandedSegment'> 0-0[42]>[0.43]>]"
      ]
     },
     "execution_count": 7,
     "metadata": {},
     "output_type": "execute_result"
    }
   ],
   "source": [
    "[beadMesh.bead for beadMesh in mrEdit.selected]"
   ]
  },
  {
   "cell_type": "markdown",
   "metadata": {},
   "source": [
    "## Edit selection"
   ]
  },
  {
   "cell_type": "markdown",
   "metadata": {},
   "source": [
    "Call getView at any time to get a new view:"
   ]
  },
  {
   "cell_type": "code",
   "execution_count": 8,
   "metadata": {},
   "outputs": [
    {
     "data": {
      "application/vnd.jupyter.widget-view+json": {
       "model_id": "ddb1338623c84cce83ee92d19b87e4e9",
       "version_major": 2,
       "version_minor": 0
      },
      "text/plain": [
       "VBox(children=(HTML(value=\"Clicked on <SegmentParticle DNA on <DoubleStrandedSegment'> 0-0[42]>[0.43]>, 2 bead…"
      ]
     },
     "metadata": {},
     "output_type": "display_data"
    }
   ],
   "source": [
    "mrEdit.getView()"
   ]
  },
  {
   "cell_type": "code",
   "execution_count": 10,
   "metadata": {},
   "outputs": [],
   "source": [
    "mrEdit.translateSelected([0,-10,0])"
   ]
  },
  {
   "cell_type": "code",
   "execution_count": 13,
   "metadata": {},
   "outputs": [],
   "source": [
    "mrEdit.rotate(mrEdit.selected, (0,1,0), 10)"
   ]
  },
  {
   "cell_type": "code",
   "execution_count": 14,
   "metadata": {
    "scrolled": true
   },
   "outputs": [
    {
     "name": "stderr",
     "output_type": "stream",
     "text": [
      "/home/johansson/miniconda3/lib/python3.6/site-packages/mrdna-0.4-py3.6.egg/mrdna/model/nonbonded.py:156: RuntimeWarning: divide by zero encountered in log\n",
      "  du = 2*0.58622592*np.log(dr+self.r0) * self.temperature/295\n"
     ]
    },
    {
     "name": "stdout",
     "output_type": "stream",
     "text": [
      "Running ARBD with: /home/johansson/arbd/src/arbd -g 0 simple.bd output/simple\n",
      "  –––––––––––––––––––––––––––––––––––––––––––––\n",
      "  |    Atomic Resolution Brownian Dynamics    |\n",
      "  –––––––––––––––––––––––––––––––––––––––––––––\n",
      "Found 1 GPU(s)\n",
      "[0] GeForce GTX 1080 Ti (may timeout) | SM 6.1, 1.67GHz, 8.7GB RAM\n",
      "Read config file simple.bd\n",
      "\n",
      "16 particles\n",
      "\n",
      "Found 2 particle types.\n",
      "Loading the potential grids...\n",
      "Loaded dx potential grid `potentials/null.dx'.\n",
      "Grid size 10000 10000 10000.\n",
      "Loaded dx potential grid `potentials/null.dx'.\n",
      "Grid size 10000 10000 10000.\n",
      "\n",
      "Cutting off the potential from 48 to 50.\n",
      "Setting gpuID to 0\n",
      "Creating streams\n",
      "Copying particle data to GPU 0\n",
      "27\n",
      "32\n",
      "86\n",
      "Setting up random number generator with seed 14312922562227809025\n",
      "Created Cell Decomposition (97, 97, 97)\n",
      "Loading 4 tabulated non-bonded potentials...\n",
      "Using 86 non-bonded exclusions\n",
      "Loading 3 tabulated bond potentials...\n",
      "Loading 2 tabulated angle potentials...\n",
      "Running on GPU 0...\n",
      "WARNING: GPU may timeout\n",
      "\n",
      "\n",
      "Testing for Nose-Hoover Langevin dynamics\n",
      "Configuration: 16 particles | 1 replicas\n",
      "\n",
      "Step 10000 [10.00% complete | 0.093 ms/step | 46655.188 ns/day]\n",
      "Step 20000 [20.00% complete | 0.089 ms/step | 48287.578 ns/day]\n",
      "Step 30000 [30.00% complete | 0.087 ms/step | 49520.840 ns/day]\n",
      "Step 40000 [40.00% complete | 0.087 ms/step | 49549.809 ns/day]\n",
      "Step 50000 [50.00% complete | 0.087 ms/step | 49460.906 ns/day]\n",
      "Step 60000 [60.00% complete | 0.087 ms/step | 49551.629 ns/day]\n",
      "Step 70000 [70.00% complete | 0.087 ms/step | 49585.922 ns/day]\n",
      "Step 80000 [80.00% complete | 0.088 ms/step | 49350.727 ns/day]\n",
      "Step 90000 [90.00% complete | 0.089 ms/step | 48724.258 ns/day]\n",
      "Final Step: 100000\n",
      "Total Run Time: 8.83s\n",
      "Loaded a 16-by-3 numpy array of coordinates\n"
     ]
    }
   ],
   "source": [
    "mrEdit.simulate()"
   ]
  },
  {
   "cell_type": "code",
   "execution_count": null,
   "metadata": {},
   "outputs": [],
   "source": []
  }
 ],
 "metadata": {
  "kernelspec": {
   "display_name": "Python 3",
   "language": "python",
   "name": "python3"
  },
  "language_info": {
   "codemirror_mode": {
    "name": "ipython",
    "version": 3
   },
   "file_extension": ".py",
   "mimetype": "text/x-python",
   "name": "python",
   "nbconvert_exporter": "python",
   "pygments_lexer": "ipython3",
   "version": "3.6.7"
  }
 },
 "nbformat": 4,
 "nbformat_minor": 2
}
