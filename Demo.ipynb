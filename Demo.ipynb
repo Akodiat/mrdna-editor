{
 "cells": [
  {
   "cell_type": "markdown",
   "metadata": {},
   "source": [
    "# Demo for the mrdna-editor\n",
    "*Written by Joakim Bohlin, Department of Pysics, University of Oxford*"
   ]
  },
  {
   "cell_type": "markdown",
   "metadata": {},
   "source": [
    "This is a demo of an interactive editor for the mrdna package. Make sure to first follow the mrdna tutorial found here:  \n",
    "https://gitlab.engr.illinois.edu/tbgl/tutorials/multi-resolution-dna-nanotechnology\n",
    "\n",
    "To get started, simply import the `Editor` class from `mrdnaEditor.py`:"
   ]
  },
  {
   "cell_type": "code",
   "execution_count": 154,
   "metadata": {},
   "outputs": [],
   "source": [
    "from mrdnaEditor import Editor"
   ]
  },
  {
   "cell_type": "markdown",
   "metadata": {},
   "source": [
    "## Load a caDNAno design\n",
    "Create an editor instance and call its `loadCadnano()` method, using the path to the JSON file:"
   ]
  },
  {
   "cell_type": "code",
   "execution_count": 139,
   "metadata": {},
   "outputs": [
    {
     "name": "stdout",
     "output_type": "stream",
     "text": [
      "Found cadnano version 2 file\n"
     ]
    }
   ],
   "source": [
    "mrEdit = Editor()\n",
    "mrEdit.loadCadnano('tri.json')"
   ]
  },
  {
   "cell_type": "markdown",
   "metadata": {},
   "source": [
    "The underlying mrdna model is accessible through `mrEdit.model`:"
   ]
  },
  {
   "cell_type": "code",
   "execution_count": 93,
   "metadata": {},
   "outputs": [
    {
     "data": {
      "text/plain": [
       "<mrdna.readers.cadnano_segments.cadnano_part at 0x7f6d181582e8>"
      ]
     },
     "execution_count": 93,
     "metadata": {},
     "output_type": "execute_result"
    }
   ],
   "source": [
    "mrEdit.model"
   ]
  },
  {
   "cell_type": "markdown",
   "metadata": {},
   "source": [
    "## View the structure"
   ]
  },
  {
   "cell_type": "markdown",
   "metadata": {},
   "source": [
    "Call `getView()` to visualise the structure:"
   ]
  },
  {
   "cell_type": "code",
   "execution_count": 140,
   "metadata": {},
   "outputs": [
    {
     "data": {
      "application/vnd.jupyter.widget-view+json": {
       "model_id": "0301aa45c5ec445a9f0f16aac0aee8f6",
       "version_major": 2,
       "version_minor": 0
      },
      "text/plain": [
       "VBox(children=(HTML(value='Select beads by double-clicking'), Renderer(camera=PerspectiveCamera(aspect=1.5, po…"
      ]
     },
     "metadata": {},
     "output_type": "display_data"
    }
   ],
   "source": [
    "mrEdit.getView()"
   ]
  },
  {
   "cell_type": "markdown",
   "metadata": {},
   "source": [
    "If you want to, you can set a different amount of base pairs / nucleotides per bead:"
   ]
  },
  {
   "cell_type": "code",
   "execution_count": 143,
   "metadata": {},
   "outputs": [],
   "source": [
    "mrEdit.regenerateBeads(\n",
    "    max_basepairs_per_bead=20,\n",
    "    max_nucleotides_per_bead=6,\n",
    "    local_twist=False,\n",
    "    escapable_twist=False)"
   ]
  },
  {
   "cell_type": "markdown",
   "metadata": {},
   "source": [
    "## Select beads"
   ]
  },
  {
   "cell_type": "markdown",
   "metadata": {},
   "source": [
    "Select one or more beads by double-clicking them in the view. You can also increase or decrease your selection using the provided buttons. Access the list of selected beads by calling `mrEdit.selected`. This is a list of bead meshes, but each have a reference to the corresponding bead in the mrdna model."
   ]
  },
  {
   "cell_type": "code",
   "execution_count": 25,
   "metadata": {
    "scrolled": true
   },
   "outputs": [
    {
     "data": {
      "text/plain": [
       "[]"
      ]
     },
     "execution_count": 25,
     "metadata": {},
     "output_type": "execute_result"
    }
   ],
   "source": [
    "[beadMesh.bead for beadMesh in mrEdit.selected]"
   ]
  },
  {
   "cell_type": "markdown",
   "metadata": {},
   "source": [
    "## Edit selection"
   ]
  },
  {
   "cell_type": "markdown",
   "metadata": {},
   "source": [
    "Call getView at any time to get a new view:"
   ]
  },
  {
   "cell_type": "code",
   "execution_count": 153,
   "metadata": {},
   "outputs": [
    {
     "data": {
      "application/vnd.jupyter.widget-view+json": {
       "model_id": "0301aa45c5ec445a9f0f16aac0aee8f6",
       "version_major": 2,
       "version_minor": 0
      },
      "text/plain": [
       "VBox(children=(HTML(value=\"Clicked on <SegmentParticle NAS on <SingleStrandedSegment'> 1-1[19]>[0.50]>, 1 bead…"
      ]
     },
     "metadata": {},
     "output_type": "display_data"
    }
   ],
   "source": [
    "mrEdit.getView()"
   ]
  },
  {
   "cell_type": "code",
   "execution_count": 133,
   "metadata": {},
   "outputs": [],
   "source": [
    "mrEdit.translateSelected([0,100,-100])"
   ]
  },
  {
   "cell_type": "code",
   "execution_count": null,
   "metadata": {},
   "outputs": [],
   "source": [
    "from mrdna.coords import rotationAboutAxis"
   ]
  },
  {
   "cell_type": "code",
   "execution_count": 126,
   "metadata": {},
   "outputs": [],
   "source": [
    "mrEdit.rotate(mrEdit.selected, (1,0,0), -120)\n",
    "mrEdit.translateSelected([0,100,-100])"
   ]
  },
  {
   "cell_type": "code",
   "execution_count": 136,
   "metadata": {},
   "outputs": [],
   "source": [
    "mrEdit.rotate(mrEdit.selected, (1,0,0), 120)\n",
    "mrEdit.translateSelected([0,100,100])"
   ]
  },
  {
   "cell_type": "code",
   "execution_count": 138,
   "metadata": {
    "scrolled": true
   },
   "outputs": [
    {
     "name": "stdout",
     "output_type": "stream",
     "text": [
      "Running ARBD with: /home/johansson/arbd/src/arbd -g 0 tri.bd output/tri\n",
      "  –––––––––––––––––––––––––––––––––––––––––––––\n",
      "  |    Atomic Resolution Brownian Dynamics    |\n",
      "  –––––––––––––––––––––––––––––––––––––––––––––\n",
      "Found 1 GPU(s)\n",
      "[0] GeForce GTX 1080 Ti (may timeout) | SM 6.1, 1.67GHz, 8.7GB RAM\n",
      "Read config file tri.bd\n",
      "\n",
      "90 particles\n",
      "\n",
      "Found 26 particle types.\n",
      "Loading the potential grids...\n",
      "Loaded dx potential grid `potentials/null.dx'.\n",
      "Grid size 10000 10000 10000.\n",
      "Loaded dx potential grid `potentials/null.dx'.\n",
      "Grid size 10000 10000 10000.\n",
      "Loaded dx potential grid `potentials/null.dx'.\n",
      "Grid size 10000 10000 10000.\n",
      "Loaded dx potential grid `potentials/null.dx'.\n",
      "Grid size 10000 10000 10000.\n",
      "Loaded dx potential grid `potentials/null.dx'.\n",
      "Grid size 10000 10000 10000.\n",
      "Loaded dx potential grid `potentials/null.dx'.\n",
      "Grid size 10000 10000 10000.\n",
      "Loaded dx potential grid `potentials/null.dx'.\n",
      "Grid size 10000 10000 10000.\n",
      "Loaded dx potential grid `potentials/null.dx'.\n",
      "Grid size 10000 10000 10000.\n",
      "Loaded dx potential grid `potentials/null.dx'.\n",
      "Grid size 10000 10000 10000.\n",
      "Loaded dx potential grid `potentials/null.dx'.\n",
      "Grid size 10000 10000 10000.\n",
      "Loaded dx potential grid `potentials/null.dx'.\n",
      "Grid size 10000 10000 10000.\n",
      "Loaded dx potential grid `potentials/null.dx'.\n",
      "Grid size 10000 10000 10000.\n",
      "Loaded dx potential grid `potentials/null.dx'.\n",
      "Grid size 10000 10000 10000.\n",
      "Loaded dx potential grid `potentials/null.dx'.\n",
      "Grid size 10000 10000 10000.\n",
      "Loaded dx potential grid `potentials/null.dx'.\n",
      "Grid size 10000 10000 10000.\n",
      "Loaded dx potential grid `potentials/null.dx'.\n",
      "Grid size 10000 10000 10000.\n",
      "Loaded dx potential grid `potentials/null.dx'.\n",
      "Grid size 10000 10000 10000.\n",
      "Loaded dx potential grid `potentials/null.dx'.\n",
      "Grid size 10000 10000 10000.\n",
      "Loaded dx potential grid `potentials/null.dx'.\n",
      "Grid size 10000 10000 10000.\n",
      "Loaded dx potential grid `potentials/null.dx'.\n",
      "Grid size 10000 10000 10000.\n",
      "Loaded dx potential grid `potentials/null.dx'.\n",
      "Grid size 10000 10000 10000.\n",
      "Loaded dx potential grid `potentials/null.dx'.\n",
      "Grid size 10000 10000 10000.\n",
      "Loaded dx potential grid `potentials/null.dx'.\n",
      "Grid size 10000 10000 10000.\n",
      "Loaded dx potential grid `potentials/null.dx'.\n",
      "Grid size 10000 10000 10000.\n",
      "Loaded dx potential grid `potentials/null.dx'.\n",
      "Grid size 10000 10000 10000.\n",
      "Loaded dx potential grid `potentials/null.dx'.\n",
      "Grid size 10000 10000 10000.\n",
      "\n",
      "Cutting off the potential from 48 to 50.\n",
      "Setting gpuID to 0\n",
      "Creating streams\n",
      "Copying particle data to GPU 0\n",
      "27\n",
      "32\n",
      "86\n",
      "Setting up random number generator with seed 2067426603858611967\n",
      "Created Cell Decomposition (97, 97, 97)\n",
      "Loading 676 tabulated non-bonded potentials...\n",
      "Using 208 non-bonded exclusions\n",
      "Loading 45 tabulated bond potentials...\n",
      "Loading 18 tabulated angle potentials...\n",
      "Loading 29 tabulated dihedral potentials...\n",
      "Running on GPU 0...\n",
      "WARNING: GPU may timeout\n",
      "\n",
      "\n",
      "Testing for Nose-Hoover Langevin dynamics\n",
      "Configuration: 90 particles | 1 replicas\n",
      "\n",
      "Step 10000 [10.00% complete | 0.111 ms/step | 38941.582 ns/day]\n",
      "Step 20000 [20.00% complete | 0.103 ms/step | 41859.328 ns/day]\n",
      "Step 30000 [30.00% complete | 0.104 ms/step | 41715.109 ns/day]\n",
      "Step 40000 [40.00% complete | 0.103 ms/step | 41755.953 ns/day]\n",
      "Step 50000 [50.00% complete | 0.103 ms/step | 42017.625 ns/day]\n",
      "Step 60000 [60.00% complete | 0.103 ms/step | 42043.715 ns/day]\n",
      "Step 70000 [70.00% complete | 0.103 ms/step | 42054.887 ns/day]\n",
      "Step 80000 [80.00% complete | 0.103 ms/step | 41934.742 ns/day]\n",
      "Step 90000 [90.00% complete | 0.103 ms/step | 42044.246 ns/day]\n",
      "Final Step: 100000\n",
      "Total Run Time: 10.41s\n",
      "Loaded a 90-by-3 numpy array of coordinates\n"
     ]
    }
   ],
   "source": [
    "mrEdit.simulate()"
   ]
  },
  {
   "cell_type": "code",
   "execution_count": null,
   "metadata": {},
   "outputs": [],
   "source": [
    "mrEdit.getView()"
   ]
  },
  {
   "cell_type": "code",
   "execution_count": null,
   "metadata": {},
   "outputs": [],
   "source": [
    "sum(beadMesh.bead.position for beadMesh in mrEdit.selected)/len(mrEdit.selected)"
   ]
  },
  {
   "cell_type": "code",
   "execution_count": null,
   "metadata": {},
   "outputs": [],
   "source": [
    "mrEdit.selected[0].position"
   ]
  },
  {
   "cell_type": "code",
   "execution_count": null,
   "metadata": {},
   "outputs": [],
   "source": []
  }
 ],
 "metadata": {
  "kernelspec": {
   "display_name": "Python 3",
   "language": "python",
   "name": "python3"
  },
  "language_info": {
   "codemirror_mode": {
    "name": "ipython",
    "version": 3
   },
   "file_extension": ".py",
   "mimetype": "text/x-python",
   "name": "python",
   "nbconvert_exporter": "python",
   "pygments_lexer": "ipython3",
   "version": "3.6.7"
  }
 },
 "nbformat": 4,
 "nbformat_minor": 2
}
